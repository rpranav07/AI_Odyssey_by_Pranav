{
  "nbformat": 4,
  "nbformat_minor": 0,
  "metadata": {
    "colab": {
      "provenance": [],
      "collapsed_sections": [
        "YsLB36tWHEwz",
        "BzuI6KObHLBH",
        "yFj92Q4FubDk",
        "jMHr-5raHRpW",
        "EsWPc3AvHYTJ",
        "TKQ78geyHhz7",
        "7skMGSSFHoWw"
      ],
      "include_colab_link": true
    },
    "kernelspec": {
      "name": "python3",
      "display_name": "Python 3"
    },
    "language_info": {
      "name": "python"
    }
  },
  "cells": [
    {
      "cell_type": "markdown",
      "metadata": {
        "id": "view-in-github",
        "colab_type": "text"
      },
      "source": [
        "<a href=\"https://colab.research.google.com/github/rpranav07/AI_Odyssey_by_Pranav/blob/main/Pillar%202%3A%20Programming%20and%20Tools/Python/Python_01_(Fundatmentals).ipynb\" target=\"_parent\"><img src=\"https://colab.research.google.com/assets/colab-badge.svg\" alt=\"Open In Colab\"/></a>"
      ]
    },
    {
      "cell_type": "markdown",
      "source": [
        "# 1. Python Output\n"
      ],
      "metadata": {
        "id": "YsLB36tWHEwz"
      }
    },
    {
      "cell_type": "code",
      "source": [
        "# Python is a case sensitive language\n",
        "print('Hello World')\n",
        "print('salman khan')\n",
        "print(7)\n",
        "print(7.7)\n",
        "print('Hello',1,4.5,True)\n",
        "print(True)"
      ],
      "metadata": {
        "colab": {
          "base_uri": "https://localhost:8080/"
        },
        "id": "5l246_zLHIEV",
        "outputId": "e1adf230-3f79-46da-f9be-c4cb500dfca9"
      },
      "execution_count": 11,
      "outputs": [
        {
          "output_type": "stream",
          "name": "stdout",
          "text": [
            "Hello World\n",
            "salman khan\n",
            "7\n",
            "7.7\n",
            "Hello 1 4.5 True\n",
            "True\n"
          ]
        }
      ]
    },
    {
      "cell_type": "code",
      "source": [
        "# The sep parameter specifies the separator between multiple items, with a default value of a space (' ').\n",
        "print(\"A\", \"B\", \"C\", sep=\"-\")"
      ],
      "metadata": {
        "colab": {
          "base_uri": "https://localhost:8080/"
        },
        "id": "h_gd-4-lXfXm",
        "outputId": "678545d0-8917-48e5-b08e-e358ccbea097"
      },
      "execution_count": 12,
      "outputs": [
        {
          "output_type": "stream",
          "name": "stdout",
          "text": [
            "A-B-C\n"
          ]
        }
      ]
    },
    {
      "cell_type": "code",
      "source": [
        "# The end parameter defines what appears at the end of the printed line, defaulting to a newline ('\\n').\n",
        "print(\"Hello\", end=\"!\")\n",
        "print(\"world\")"
      ],
      "metadata": {
        "colab": {
          "base_uri": "https://localhost:8080/"
        },
        "id": "aGTJVw9bXsoG",
        "outputId": "0c3eec50-bdb2-45c6-8e27-a00cd7ef3636"
      },
      "execution_count": 13,
      "outputs": [
        {
          "output_type": "stream",
          "name": "stdout",
          "text": [
            "Hello!world\n"
          ]
        }
      ]
    },
    {
      "cell_type": "code",
      "source": [
        "# Both can be combined for advanced formatting\n",
        "print(\"A\", \"B\", sep=\",\", end=\".\")"
      ],
      "metadata": {
        "colab": {
          "base_uri": "https://localhost:8080/"
        },
        "id": "8jOZWdgJX1HB",
        "outputId": "30a44849-16e3-45bd-b80c-dbcddcdc8822"
      },
      "execution_count": 14,
      "outputs": [
        {
          "output_type": "stream",
          "name": "stdout",
          "text": [
            "A,B."
          ]
        }
      ]
    },
    {
      "cell_type": "markdown",
      "source": [
        "# 2. Data Types"
      ],
      "metadata": {
        "id": "BzuI6KObHLBH"
      }
    },
    {
      "cell_type": "code",
      "source": [
        "# Integer\n",
        "print(8)\n",
        "# 1*10^308\n",
        "print((1e308)) # maximum integer Value\n",
        "print(1e309)"
      ],
      "metadata": {
        "colab": {
          "base_uri": "https://localhost:8080/"
        },
        "id": "0AD2yELLHOD5",
        "outputId": "6b1c9627-dd4c-400c-ebc5-ce385a78011d"
      },
      "execution_count": 15,
      "outputs": [
        {
          "output_type": "stream",
          "name": "stdout",
          "text": [
            "8\n",
            "1e+308\n",
            "inf\n"
          ]
        }
      ]
    },
    {
      "cell_type": "code",
      "source": [
        "# Decimal/Float\n",
        "print(8.55)\n",
        "print(1.7e308)  # maximum Float value\n",
        "print(1.7e309)"
      ],
      "metadata": {
        "colab": {
          "base_uri": "https://localhost:8080/"
        },
        "id": "6zf6tCPNoZqc",
        "outputId": "f50fe449-2760-465e-a2f4-416afa04cf79"
      },
      "execution_count": 16,
      "outputs": [
        {
          "output_type": "stream",
          "name": "stdout",
          "text": [
            "8.55\n",
            "1.7e+308\n",
            "inf\n"
          ]
        }
      ]
    },
    {
      "cell_type": "code",
      "source": [
        "# Boolean\n",
        "print(True)\n",
        "print(False)"
      ],
      "metadata": {
        "colab": {
          "base_uri": "https://localhost:8080/"
        },
        "id": "VN8v8HEQoZ3X",
        "outputId": "38c57e83-899a-4422-b832-aa78f6975f15"
      },
      "execution_count": 17,
      "outputs": [
        {
          "output_type": "stream",
          "name": "stdout",
          "text": [
            "True\n",
            "False\n"
          ]
        }
      ]
    },
    {
      "cell_type": "code",
      "source": [
        "# Text/String\n",
        "print('Hello World')"
      ],
      "metadata": {
        "colab": {
          "base_uri": "https://localhost:8080/"
        },
        "id": "NEwaubEvpJen",
        "outputId": "bc33af31-cc71-4d75-b2b1-5849b5eb0679"
      },
      "execution_count": 18,
      "outputs": [
        {
          "output_type": "stream",
          "name": "stdout",
          "text": [
            "Hello World\n"
          ]
        }
      ]
    },
    {
      "cell_type": "code",
      "source": [
        "# complex\n",
        "print(5+6j)"
      ],
      "metadata": {
        "colab": {
          "base_uri": "https://localhost:8080/"
        },
        "id": "L60DWHUVpQzj",
        "outputId": "ae0b0457-f3d2-4f1f-b81a-38d49f8e8b19"
      },
      "execution_count": 19,
      "outputs": [
        {
          "output_type": "stream",
          "name": "stdout",
          "text": [
            "(5+6j)\n"
          ]
        }
      ]
    },
    {
      "cell_type": "code",
      "source": [
        "# List-> C-> Array\n",
        "print([1,2,3,4,5])"
      ],
      "metadata": {
        "colab": {
          "base_uri": "https://localhost:8080/"
        },
        "id": "u0qI-mUZpWRh",
        "outputId": "0d571281-c999-4605-a240-f8e54cc81433"
      },
      "execution_count": 20,
      "outputs": [
        {
          "output_type": "stream",
          "name": "stdout",
          "text": [
            "[1, 2, 3, 4, 5]\n"
          ]
        }
      ]
    },
    {
      "cell_type": "code",
      "source": [
        "# Tuple\n",
        "print((1,2,3,4,5))"
      ],
      "metadata": {
        "colab": {
          "base_uri": "https://localhost:8080/"
        },
        "id": "Futbt8RJpefw",
        "outputId": "e2eb5d12-8966-4062-9266-ebf6aa016378"
      },
      "execution_count": 21,
      "outputs": [
        {
          "output_type": "stream",
          "name": "stdout",
          "text": [
            "(1, 2, 3, 4, 5)\n"
          ]
        }
      ]
    },
    {
      "cell_type": "code",
      "source": [
        "# Sets\n",
        "print({1,2,3,4,5})"
      ],
      "metadata": {
        "colab": {
          "base_uri": "https://localhost:8080/"
        },
        "id": "WW-etE4BplMR",
        "outputId": "ae6e1846-3072-422a-e509-0a562969ade8"
      },
      "execution_count": 22,
      "outputs": [
        {
          "output_type": "stream",
          "name": "stdout",
          "text": [
            "{1, 2, 3, 4, 5}\n"
          ]
        }
      ]
    },
    {
      "cell_type": "code",
      "source": [
        "# Dictionary\n",
        "print({'name':'Nitish','gender':'Male','weight':70})"
      ],
      "metadata": {
        "colab": {
          "base_uri": "https://localhost:8080/"
        },
        "id": "ssWbznaaprT6",
        "outputId": "ab290895-a983-4d94-f3c9-05c73fb267df"
      },
      "execution_count": 23,
      "outputs": [
        {
          "output_type": "stream",
          "name": "stdout",
          "text": [
            "{'name': 'Nitish', 'gender': 'Male', 'weight': 70}\n"
          ]
        }
      ]
    },
    {
      "cell_type": "code",
      "source": [
        "# type\n",
        "type([1,2,3])"
      ],
      "metadata": {
        "colab": {
          "base_uri": "https://localhost:8080/"
        },
        "id": "NAJzbOAsq3bG",
        "outputId": "a6e134a8-369a-4a30-e77f-236d272ca271"
      },
      "execution_count": 24,
      "outputs": [
        {
          "output_type": "execute_result",
          "data": {
            "text/plain": [
              "list"
            ]
          },
          "metadata": {},
          "execution_count": 24
        }
      ]
    },
    {
      "cell_type": "markdown",
      "source": [
        "# Comments"
      ],
      "metadata": {
        "id": "yFj92Q4FubDk"
      }
    },
    {
      "cell_type": "code",
      "source": [
        "# this is a comment\n",
        "# second line\n",
        "a = 4\n",
        "b = 6 # like this\n",
        "# second comment\n",
        "print(a+b)"
      ],
      "metadata": {
        "colab": {
          "base_uri": "https://localhost:8080/"
        },
        "id": "4FJF20FiudCO",
        "outputId": "8debfaa7-3659-481f-a637-05cbfaf54d29"
      },
      "execution_count": 25,
      "outputs": [
        {
          "output_type": "stream",
          "name": "stdout",
          "text": [
            "10\n"
          ]
        }
      ]
    },
    {
      "cell_type": "markdown",
      "source": [
        "# 3. Variables"
      ],
      "metadata": {
        "id": "kYD63MF7HOyJ"
      }
    },
    {
      "cell_type": "code",
      "source": [
        "# Static  Typing\n",
        "\n",
        "# In static typing, the type of a variable is declared explicitly and checked at compile time.\n",
        "# Variables must have a fixed type assigned when declared (e.g., int, string).\n",
        "# Type checking is done before execution (at compile time).\n",
        "# Errors related to type mismatches are caught early.\n",
        "# Examples of Static Typing Languages: Java, C++, C#, Go\n",
        "# Less flexible\n",
        "# Performance\tGenerally faster\n",
        "# int num = 10;   // Explicitly declare variable type\n",
        "# num = \"hello\";  // Error: cannot assign a string to an integer\n"
      ],
      "metadata": {
        "id": "op579nCUHQ24"
      },
      "execution_count": 26,
      "outputs": []
    },
    {
      "cell_type": "code",
      "source": [
        "# Dynamic Typing\n",
        "# Definition: In dynamic typing, the type of a variable is determined at runtime, based on the value assigned.\n",
        "\n",
        "# Variables don’t need an explicit type declaration.\n",
        "# Type checking is done during execution (at runtime).\n",
        "# Variables can hold values of any type and change types dynamically.\n",
        "# Examples of Dynamically Typed Languages: Python, JavaScript, Ruby, PHP.\n",
        "# Generally slower and more Flexible\n",
        "\n",
        "num = 10       # No type declaration needed\n",
        "num = \"hello\"  # Valid: The type of 'num' is now a string\n"
      ],
      "metadata": {
        "id": "gPUuvBDZNEDQ"
      },
      "execution_count": 27,
      "outputs": []
    },
    {
      "cell_type": "code",
      "source": [
        "# Static Vs Dynamic Binding\n",
        "\n",
        "# Dynamic Binding\n",
        "a = 5\n",
        "print(a)\n",
        "a = 'nitish'\n",
        "print(a)\n",
        "\n",
        "# Static Binding\n",
        "#  int a = 5"
      ],
      "metadata": {
        "colab": {
          "base_uri": "https://localhost:8080/"
        },
        "id": "5UpzC2tlskka",
        "outputId": "ab69c2c0-75be-4b82-b9d3-a1c922f056cf"
      },
      "execution_count": 28,
      "outputs": [
        {
          "output_type": "stream",
          "name": "stdout",
          "text": [
            "5\n",
            "nitish\n"
          ]
        }
      ]
    },
    {
      "cell_type": "code",
      "source": [
        "# stylish declaration techniques\n",
        "# Multiple Assignment\n",
        "x, y, z = 1, 2, 3\n",
        "# Swapping Variables Without Temp\n",
        "x, y = y, x  # Pythonic swap\n",
        "# Unpacking Lists/Tuples\n",
        "data = [10, 20, 30]\n",
        "a, b, c = data\n",
        "# Inline Conditional Assignment\n",
        "# status = \"Success\" if condition else \"Failure\""
      ],
      "metadata": {
        "id": "7ugLCxEIOjsl"
      },
      "execution_count": 29,
      "outputs": []
    },
    {
      "cell_type": "code",
      "source": [
        "a = 1\n",
        "b = 2\n",
        "c = 3\n",
        "print(a,b,c)"
      ],
      "metadata": {
        "colab": {
          "base_uri": "https://localhost:8080/"
        },
        "id": "-PObryFetHAE",
        "outputId": "012c3abf-c73c-402c-b12e-f51be6a17c0c"
      },
      "execution_count": 30,
      "outputs": [
        {
          "output_type": "stream",
          "name": "stdout",
          "text": [
            "1 2 3\n"
          ]
        }
      ]
    },
    {
      "cell_type": "code",
      "source": [
        "a,b,c = 1,2,3\n",
        "print(a,b,c)"
      ],
      "metadata": {
        "colab": {
          "base_uri": "https://localhost:8080/"
        },
        "id": "AYkxWEMItN9K",
        "outputId": "82ca67ab-e532-4e32-cdde-1f618a61c13b"
      },
      "execution_count": 31,
      "outputs": [
        {
          "output_type": "stream",
          "name": "stdout",
          "text": [
            "1 2 3\n"
          ]
        }
      ]
    },
    {
      "cell_type": "code",
      "source": [
        "a=b=c= 5\n",
        "print(a,b,c)"
      ],
      "metadata": {
        "colab": {
          "base_uri": "https://localhost:8080/"
        },
        "id": "gcaARQh6tUtP",
        "outputId": "db82f4db-334c-44e5-a4e5-fe6b9885370c"
      },
      "execution_count": 32,
      "outputs": [
        {
          "output_type": "stream",
          "name": "stdout",
          "text": [
            "5 5 5\n"
          ]
        }
      ]
    },
    {
      "cell_type": "markdown",
      "source": [
        "# 4. Keywords & Identifiers"
      ],
      "metadata": {
        "id": "jMHr-5raHRpW"
      }
    },
    {
      "cell_type": "code",
      "source": [
        "# Keywords\n",
        "# Python keywords are reserved words that have specific meanings and purposes within the language.\n",
        "# They cannot be used as identifiers (e.g., variable names, function names)\n",
        "# because they are part of the Python syntax.\n"
      ],
      "metadata": {
        "id": "frABVH7pHXF8"
      },
      "execution_count": 33,
      "outputs": []
    },
    {
      "cell_type": "markdown",
      "source": [
        "# Rules for Python Identifiers\n",
        "\n",
        "An **identifier** is the name used to identify variables, functions, classes, or other objects in Python. Follow these rules to create valid identifiers:\n",
        "\n",
        "---\n",
        "\n",
        "## 1. Allowed Characters\n",
        "- Can include **letters** (A-Z, a-z), **digits** (0-9), and underscores (`_`).\n",
        "- **Cannot start with a digit.**\n",
        "  - Valid: `my_var`, `_myVar`, `var123`\n",
        "  - Invalid: `123var`\n",
        "\n",
        "---\n",
        "\n",
        "## 2. Case Sensitivity\n",
        "- Identifiers are **case-sensitive**.\n",
        "  - Example: `name`, `Name`, and `NAME` are different identifiers.\n",
        "\n",
        "---\n",
        "\n",
        "## 3. No Special Characters\n",
        "- Cannot contain special characters like `@`, `#`, `$`, `%`, `&`, etc.\n",
        "  - Invalid: `my#var`, `var!`\n",
        "\n",
        "---\n",
        "\n",
        "## 4. No Spaces\n",
        "- Spaces are not allowed in identifiers.\n",
        "  - Use underscores (`_`) instead.  \n",
        "    - Valid: `my_variable`\n",
        "\n",
        "---\n",
        "\n",
        "## 5. Cannot Be a Keyword\n",
        "- Keywords like `if`, `else`, `for`, `while`, etc., **cannot** be used as identifiers.\n",
        "\n",
        "---\n",
        "\n",
        "## 6. Unlimited Length\n",
        "- Identifiers can be of any length, but long names may reduce readability.\n",
        "\n",
        "---\n",
        "\n",
        "## Examples\n",
        "\n",
        "```python\n",
        "# Valid identifiers\n",
        "my_var = 10\n",
        "_var123 = 20\n",
        "MyClass = \"Python\"\n",
        "\n",
        "# Invalid identifiers\n",
        "1var = 10        # Starts with a digit\n",
        "my-var = 20      # Contains a special character\n",
        "for = \"Python\"   # Uses a keyword\n"
      ],
      "metadata": {
        "id": "t0UayQSea6hn"
      }
    },
    {
      "cell_type": "markdown",
      "source": [
        "# 5. User Input"
      ],
      "metadata": {
        "id": "EsWPc3AvHYTJ"
      }
    },
    {
      "cell_type": "code",
      "source": [
        "input('Enter Email ')"
      ],
      "metadata": {
        "colab": {
          "base_uri": "https://localhost:8080/",
          "height": 52
        },
        "id": "seRvw18RHhIo",
        "outputId": "c4bf1049-0adf-46b1-ef3a-330dee9d3c59"
      },
      "execution_count": 34,
      "outputs": [
        {
          "name": "stdout",
          "output_type": "stream",
          "text": [
            "Enter Email 123@456\n"
          ]
        },
        {
          "output_type": "execute_result",
          "data": {
            "text/plain": [
              "'123@456'"
            ],
            "application/vnd.google.colaboratory.intrinsic+json": {
              "type": "string"
            }
          },
          "metadata": {},
          "execution_count": 34
        }
      ]
    },
    {
      "cell_type": "code",
      "source": [
        "# take input from users and store them in a variable\n",
        "fnum = (input('enter first number '))\n",
        "snum = (input('enter second number '))\n",
        "#print(type(fnum),type(snum))\n",
        "# add the 2 variables\n",
        "result =int(fnum) + int(snum)\n",
        "# print the result\n",
        "print(result)\n",
        "print(type(result),type(fnum),type(snum))"
      ],
      "metadata": {
        "colab": {
          "base_uri": "https://localhost:8080/"
        },
        "id": "HDIZMv91zbXY",
        "outputId": "573fda2e-2a08-4b38-81c3-3e7ecb360708"
      },
      "execution_count": 35,
      "outputs": [
        {
          "output_type": "stream",
          "name": "stdout",
          "text": [
            "enter first number 2211\n",
            "enter second number 22112\n",
            "24323\n",
            "<class 'int'> <class 'str'> <class 'str'>\n"
          ]
        }
      ]
    },
    {
      "cell_type": "markdown",
      "source": [
        "# 6. Type Conversion"
      ],
      "metadata": {
        "id": "TKQ78geyHhz7"
      }
    },
    {
      "cell_type": "code",
      "source": [
        "# Implicit Vs Explicit\n",
        "print(5 + 5.6)\n",
        "print(type(5),type(5.6))\n",
        "\n",
        "# print(4 + '4')  # unsupported operand type(s) for +: 'int' and 'str'"
      ],
      "metadata": {
        "colab": {
          "base_uri": "https://localhost:8080/"
        },
        "id": "BEuLxINMHnzk",
        "outputId": "7c7295d6-f705-482e-9d96-506d9998b562"
      },
      "execution_count": 36,
      "outputs": [
        {
          "output_type": "stream",
          "name": "stdout",
          "text": [
            "10.6\n",
            "<class 'int'> <class 'float'>\n"
          ]
        }
      ]
    },
    {
      "cell_type": "code",
      "source": [
        "# Explicit\n",
        "# str -> int\n",
        "print(type(int('45')))\n",
        "# int(4+5j) :- can't convert complex no to integer\n",
        "\n",
        "# int to str\n",
        "str(5)\n",
        "\n",
        "# float\n",
        "float(4)"
      ],
      "metadata": {
        "colab": {
          "base_uri": "https://localhost:8080/"
        },
        "id": "-dyXjVl7115d",
        "outputId": "ff4b2fec-1a1d-4767-f585-11fcc84a1e55"
      },
      "execution_count": 37,
      "outputs": [
        {
          "output_type": "stream",
          "name": "stdout",
          "text": [
            "<class 'int'>\n"
          ]
        },
        {
          "output_type": "execute_result",
          "data": {
            "text/plain": [
              "4.0"
            ]
          },
          "metadata": {},
          "execution_count": 37
        }
      ]
    },
    {
      "cell_type": "markdown",
      "source": [
        "# 7. Literals\n",
        "Literals are fixed values or data items in a Python program that represent specific types of data directly.\n",
        "\n",
        "They are constants whose value does not change during the execution of the program.\n",
        "\n"
      ],
      "metadata": {
        "id": "7skMGSSFHoWw"
      }
    },
    {
      "cell_type": "code",
      "source": [
        "a = 0b1010 #Binary Literals\n",
        "b = 100 #Decimal Literal\n",
        "c = 0o310 #Octal Literal\n",
        "d = 0x12c #Hexadecimal Literal\n",
        "\n",
        "#Float Literal\n",
        "float_1 = 10.5\n",
        "float_2 = 1.5e2 # 1.5 * 10^2\n",
        "float_3 = 1.5e-3 # 1.5 * 10^-3\n",
        "\n",
        "#Complex Literal\n",
        "x = 3.14j\n",
        "\n",
        "print(a, b, c, d)\n",
        "print(float_1, float_2,float_3)\n",
        "print(x, x.imag, x.real)"
      ],
      "metadata": {
        "id": "4Q6wfNw1Huao",
        "colab": {
          "base_uri": "https://localhost:8080/"
        },
        "outputId": "a87d4f35-aa23-4ab9-97f6-0b9962921bb5"
      },
      "execution_count": 38,
      "outputs": [
        {
          "output_type": "stream",
          "name": "stdout",
          "text": [
            "10 100 200 300\n",
            "10.5 150.0 0.0015\n",
            "3.14j 3.14 0.0\n"
          ]
        }
      ]
    },
    {
      "cell_type": "code",
      "source": [
        "# binary\n",
        "x = 3.14j\n",
        "print(x.imag)"
      ],
      "metadata": {
        "colab": {
          "base_uri": "https://localhost:8080/"
        },
        "id": "8UhbuqqD4X4x",
        "outputId": "f2ef67e8-2d62-4c50-803c-810228b9512f"
      },
      "execution_count": 39,
      "outputs": [
        {
          "output_type": "stream",
          "name": "stdout",
          "text": [
            "3.14\n"
          ]
        }
      ]
    },
    {
      "cell_type": "code",
      "source": [
        "string = 'This is Python'\n",
        "strings = \"This is Python\"\n",
        "char = \"C\"\n",
        "multiline_str = \"\"\"This is a multiline string with more than one line code.\"\"\"\n",
        "unicode = u\"\\U0001f600\\U0001F606\\U0001F923\"\n",
        "raw_str = r\"raw \\n string\"\n",
        "\n",
        "print(string)\n",
        "print(strings)\n",
        "print(char)\n",
        "print(multiline_str)\n",
        "print(unicode)\n",
        "print(raw_str)"
      ],
      "metadata": {
        "colab": {
          "base_uri": "https://localhost:8080/"
        },
        "id": "gPIDz0f6bwc1",
        "outputId": "16c480c6-931d-4ecf-844b-162edb1a2703"
      },
      "execution_count": 40,
      "outputs": [
        {
          "output_type": "stream",
          "name": "stdout",
          "text": [
            "This is Python\n",
            "This is Python\n",
            "C\n",
            "This is a multiline string with more than one line code.\n",
            "😀😆🤣\n",
            "raw \\n string\n"
          ]
        }
      ]
    },
    {
      "cell_type": "code",
      "source": [
        "a = True + 4\n",
        "b = False + 10\n",
        "\n",
        "print(\"a:\", a)\n",
        "print(\"b:\", b)"
      ],
      "metadata": {
        "colab": {
          "base_uri": "https://localhost:8080/"
        },
        "id": "78PBluZub3vT",
        "outputId": "dad0d6a4-37d0-47ed-b4d7-50a4465970b9"
      },
      "execution_count": 41,
      "outputs": [
        {
          "output_type": "stream",
          "name": "stdout",
          "text": [
            "a: 5\n",
            "b: 10\n"
          ]
        }
      ]
    },
    {
      "cell_type": "code",
      "source": [
        "k = None  # Declare variable which can we use it later\n",
        "a = 5\n",
        "b = 6\n",
        "print('Program exe')"
      ],
      "metadata": {
        "colab": {
          "base_uri": "https://localhost:8080/"
        },
        "id": "g9ANbWx_b6q1",
        "outputId": "8b4377a3-90cb-48f3-f9d8-ea87c08b8b77"
      },
      "execution_count": 42,
      "outputs": [
        {
          "output_type": "stream",
          "name": "stdout",
          "text": [
            "Program exe\n"
          ]
        }
      ]
    }
  ]
}